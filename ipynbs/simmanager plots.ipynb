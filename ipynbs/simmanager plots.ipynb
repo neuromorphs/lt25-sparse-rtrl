{
 "cells": [
  {
   "cell_type": "code",
   "execution_count": 3,
   "id": "a4f463f2",
   "metadata": {},
   "outputs": [],
   "source": [
    "import os\n",
    "import pickle\n",
    "\n",
    "import numpy as np\n",
    "    \n",
    "import matplotlib.pyplot as plt\n",
    "\n",
    "from simrecorder import ZarrDataStore\n"
   ]
  },
  {
   "cell_type": "code",
   "execution_count": 18,
   "id": "0d0460aa",
   "metadata": {},
   "outputs": [],
   "source": [
    "path = '/scratch/anand/output/sparse-rtrl/baseline-8020-D02-02-2023-T18-54-46/results'"
   ]
  },
  {
   "cell_type": "code",
   "execution_count": 19,
   "id": "ecc6a81f",
   "metadata": {},
   "outputs": [],
   "source": [
    "df = ZarrDataStore(os.path.join(path, 'data.mdb'))"
   ]
  },
  {
   "cell_type": "code",
   "execution_count": 20,
   "id": "0a92c550",
   "metadata": {},
   "outputs": [
    {
     "data": {
      "text/plain": [
       "['M_sparsity',\n",
       " 'loss',\n",
       " 'mean_M_sparsity',\n",
       " 'mean_state_sparsity',\n",
       " 'state_sparsity',\n",
       " 'step']"
      ]
     },
     "execution_count": 20,
     "metadata": {},
     "output_type": "execute_result"
    }
   ],
   "source": [
    "list(df.f['train'].keys())"
   ]
  },
  {
   "cell_type": "code",
   "execution_count": 21,
   "id": "322e9ad1",
   "metadata": {},
   "outputs": [
    {
     "data": {
      "text/plain": [
       "<zarr.core.Array '/train/M_sparsity' (1700, 32, 17) float32>"
      ]
     },
     "execution_count": 21,
     "metadata": {},
     "output_type": "execute_result"
    }
   ],
   "source": [
    "df.get_all('train/M_sparsity')"
   ]
  },
  {
   "cell_type": "code",
   "execution_count": 22,
   "id": "56d3ec03",
   "metadata": {},
   "outputs": [
    {
     "data": {
      "text/plain": [
       "<zarr.core.Array '/train/state_sparsity' (1700, 32, 17) float32>"
      ]
     },
     "execution_count": 22,
     "metadata": {},
     "output_type": "execute_result"
    }
   ],
   "source": [
    "df.get_all('train/state_sparsity')"
   ]
  },
  {
   "cell_type": "code",
   "execution_count": 23,
   "id": "c4d39a99",
   "metadata": {},
   "outputs": [
    {
     "data": {
      "text/plain": [
       "<zarr.core.Array '/train/mean_M_sparsity' (1700,) float32>"
      ]
     },
     "execution_count": 23,
     "metadata": {},
     "output_type": "execute_result"
    }
   ],
   "source": [
    "df.get_all('train/mean_M_sparsity')"
   ]
  },
  {
   "cell_type": "code",
   "execution_count": null,
   "id": "8bdb1bdf",
   "metadata": {},
   "outputs": [],
   "source": []
  }
 ],
 "metadata": {
  "kernelspec": {
   "display_name": "Python 3 (ipykernel)",
   "language": "python",
   "name": "python3"
  },
  "language_info": {
   "codemirror_mode": {
    "name": "ipython",
    "version": 3
   },
   "file_extension": ".py",
   "mimetype": "text/x-python",
   "name": "python",
   "nbconvert_exporter": "python",
   "pygments_lexer": "ipython3",
   "version": "3.10.9"
  }
 },
 "nbformat": 4,
 "nbformat_minor": 5
}
